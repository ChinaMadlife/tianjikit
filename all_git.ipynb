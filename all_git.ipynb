{
 "cells": [
  {
   "cell_type": "code",
   "execution_count": 3,
   "metadata": {
    "ExecuteTime": {
     "end_time": "2018-10-09T09:23:59.883000Z",
     "start_time": "2018-10-09T09:23:58.901000Z"
    }
   },
   "outputs": [],
   "source": [
    "!git config --global user.name \"lyhue1991\"\n",
    "!git config --global user.email \"lyhue1991@163.com\"\n",
    "\n",
    "# 出现一些类似 warning: LF will be replaced by CRLF in <file-name>. 可启用如下设置。\n",
    "!git config --global core.autocrlf false\n",
    "\n",
    "# 配置打印历史commit的快捷命令\n",
    "!git config --global alias.lg \"log --oneline --graph --all\""
   ]
  },
  {
   "cell_type": "code",
   "execution_count": 4,
   "metadata": {
    "ExecuteTime": {
     "end_time": "2018-10-09T09:24:04.957000Z",
     "start_time": "2018-10-09T09:24:04.720000Z"
    }
   },
   "outputs": [
    {
     "name": "stdout",
     "output_type": "stream",
     "text": [
      "Reinitialized existing Git repository in C:/Users/liangyun/OneDrive/PythonFiles/All_My_Functions/FeatureAnalysis/.git/\n"
     ]
    }
   ],
   "source": [
    "!git init"
   ]
  },
  {
   "cell_type": "code",
   "execution_count": 1,
   "metadata": {
    "ExecuteTime": {
     "end_time": "2018-10-10T07:06:05.028000Z",
     "start_time": "2018-10-10T07:06:04.467000Z"
    }
   },
   "outputs": [],
   "source": [
    "!git add -A"
   ]
  },
  {
   "cell_type": "code",
   "execution_count": 24,
   "metadata": {
    "ExecuteTime": {
     "end_time": "2018-10-10T08:14:01.736000Z",
     "start_time": "2018-10-10T08:14:01.712000Z"
    }
   },
   "outputs": [
    {
     "data": {
      "text/plain": [
       "u'This man is no ordinary man. This is Mr. F. G. Superman.'"
      ]
     },
     "execution_count": 24,
     "metadata": {},
     "output_type": "execute_result"
    }
   ],
   "source": [
    "from io import StringIO\n",
    "\n",
    "file = StringIO()\n",
    "file.seek(0)\n",
    "file.write(\"This man is no ordinary man. \".decode('utf-8'))\n",
    "file.write(\"This is Mr. F. G. Superman.\".decode('utf-8'))\n",
    "file.seek(0)\n",
    "file.read()"
   ]
  },
  {
   "cell_type": "code",
   "execution_count": 20,
   "metadata": {
    "ExecuteTime": {
     "end_time": "2018-10-10T08:13:36.650000Z",
     "start_time": "2018-10-10T08:13:36.615000Z"
    }
   },
   "outputs": [
    {
     "data": {
      "text/plain": [
       "unicode"
      ]
     },
     "execution_count": 20,
     "metadata": {},
     "output_type": "execute_result"
    }
   ],
   "source": [
    "s =  \"This man is no ordinary man. \"\n",
    "type(s.decode('utf-8'))"
   ]
  },
  {
   "cell_type": "code",
   "execution_count": 6,
   "metadata": {
    "ExecuteTime": {
     "end_time": "2018-10-09T09:25:31.256000Z",
     "start_time": "2018-10-09T09:25:30.856000Z"
    }
   },
   "outputs": [
    {
     "name": "stdout",
     "output_type": "stream",
     "text": [
      "[master (root-commit) 100c7a6] version 1.0\n",
      " 32 files changed, 4161 insertions(+)\n",
      " create mode 100644 .ipynb_checkpoints/all_git-checkpoint.ipynb\n",
      " create mode 100644 .ipynb_checkpoints/readme-checkpoint.ipynb\n",
      " create mode 100644 FeatureAnalysis.py\n",
      " create mode 100644 FeatureAnalysis.pyc\n",
      " create mode 100644 FeatureAnalysis_Frame.png\n",
      " create mode 100644 RunModel.py\n",
      " create mode 100644 RunModel.pyc\n",
      " create mode 100644 __init__.py\n",
      " create mode 100644 __init__.pyc\n",
      " create mode 100644 all_git.ipynb\n",
      " create mode 100644 basic.py\n",
      " create mode 100644 basic.pyc\n",
      " create mode 100644 chi2.py\n",
      " create mode 100644 chi2.pyc\n",
      " create mode 100644 drop_feature.py\n",
      " create mode 100644 drop_feature.pyc\n",
      " create mode 100644 feature_analysis.py\n",
      " create mode 100644 feature_analysis.pyc\n",
      " create mode 100644 fill_nan.py\n",
      " create mode 100644 fill_nan.pyc\n",
      " create mode 100644 iv.py\n",
      " create mode 100644 iv.pyc\n",
      " create mode 100644 ks.py\n",
      " create mode 100644 ks.pyc\n",
      " create mode 100644 outliers.py\n",
      " create mode 100644 outliers.pyc\n",
      " create mode 100644 psi.py\n",
      " create mode 100644 psi.pyc\n",
      " create mode 100644 readme.ipynb\n",
      " create mode 100644 readme.png\n",
      " create mode 100644 scale_feature.py\n",
      " create mode 100644 scale_feature.pyc\n"
     ]
    }
   ],
   "source": [
    "!git commit -m\"version 1.0\""
   ]
  },
  {
   "cell_type": "code",
   "execution_count": 7,
   "metadata": {
    "ExecuteTime": {
     "end_time": "2018-10-09T09:26:49.187000Z",
     "start_time": "2018-10-09T09:26:48.566000Z"
    }
   },
   "outputs": [],
   "source": [
    "!git remote add origin https://github.com/lyhue1991/FeatureAnalysis.git"
   ]
  },
  {
   "cell_type": "code",
   "execution_count": 8,
   "metadata": {
    "ExecuteTime": {
     "end_time": "2018-10-09T09:28:01.726000Z",
     "start_time": "2018-10-09T09:27:25.673000Z"
    }
   },
   "outputs": [
    {
     "name": "stdout",
     "output_type": "stream",
     "text": [
      "Branch 'master' set up to track remote branch 'master' from 'origin'.\n"
     ]
    },
    {
     "name": "stderr",
     "output_type": "stream",
     "text": [
      "remote: \n",
      "remote: Create a pull request for 'master' on GitHub by visiting:        \n",
      "remote:      https://github.com/lyhue1991/FeatureAnalysis/pull/new/master        \n",
      "remote: \n",
      "To https://github.com/lyhue1991/FeatureAnalysis.git\n",
      " * [new branch]      master -> master\n"
     ]
    }
   ],
   "source": [
    "!git push -u origin master"
   ]
  }
 ],
 "metadata": {
  "kernelspec": {
   "display_name": "Python 2",
   "language": "python",
   "name": "python2"
  },
  "language_info": {
   "codemirror_mode": {
    "name": "ipython",
    "version": 2
   },
   "file_extension": ".py",
   "mimetype": "text/x-python",
   "name": "python",
   "nbconvert_exporter": "python",
   "pygments_lexer": "ipython2",
   "version": "2.7.15"
  }
 },
 "nbformat": 4,
 "nbformat_minor": 2
}
