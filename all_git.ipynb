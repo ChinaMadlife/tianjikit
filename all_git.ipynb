{
 "cells": [
  {
   "cell_type": "code",
   "execution_count": 1,
   "metadata": {
    "ExecuteTime": {
     "end_time": "2018-10-09T09:21:36.934000Z",
     "start_time": "2018-10-09T09:21:36.530000Z"
    }
   },
   "outputs": [
    {
     "name": "stdout",
     "output_type": "stream",
     "text": [
      "Initialized empty Git repository in C:/Users/liangyun/OneDrive/PythonFiles/All_My_Functions/FeatureAnalysis/.git/\n"
     ]
    }
   ],
   "source": [
    "!git init"
   ]
  },
  {
   "cell_type": "code",
   "execution_count": 2,
   "metadata": {
    "ExecuteTime": {
     "end_time": "2018-10-09T09:21:46.724000Z",
     "start_time": "2018-10-09T09:21:46.273000Z"
    }
   },
   "outputs": [
    {
     "name": "stderr",
     "output_type": "stream",
     "text": [
      "warning: LF will be replaced by CRLF in .ipynb_checkpoints/all_git-checkpoint.ipynb.\n",
      "The file will have its original line endings in your working directory.\n",
      "warning: LF will be replaced by CRLF in .ipynb_checkpoints/readme-checkpoint.ipynb.\n",
      "The file will have its original line endings in your working directory.\n",
      "warning: LF will be replaced by CRLF in FeatureAnalysis.py.\n",
      "The file will have its original line endings in your working directory.\n",
      "warning: LF will be replaced by CRLF in RunModel.py.\n",
      "The file will have its original line endings in your working directory.\n",
      "warning: LF will be replaced by CRLF in __init__.py.\n",
      "The file will have its original line endings in your working directory.\n",
      "warning: LF will be replaced by CRLF in all_git.ipynb.\n",
      "The file will have its original line endings in your working directory.\n",
      "warning: LF will be replaced by CRLF in basic.py.\n",
      "The file will have its original line endings in your working directory.\n",
      "warning: LF will be replaced by CRLF in chi2.py.\n",
      "The file will have its original line endings in your working directory.\n",
      "warning: LF will be replaced by CRLF in drop_feature.py.\n",
      "The file will have its original line endings in your working directory.\n",
      "warning: LF will be replaced by CRLF in feature_analysis.py.\n",
      "The file will have its original line endings in your working directory.\n",
      "warning: LF will be replaced by CRLF in fill_nan.py.\n",
      "The file will have its original line endings in your working directory.\n",
      "warning: LF will be replaced by CRLF in iv.py.\n",
      "The file will have its original line endings in your working directory.\n",
      "warning: LF will be replaced by CRLF in ks.py.\n",
      "The file will have its original line endings in your working directory.\n",
      "warning: LF will be replaced by CRLF in outliers.py.\n",
      "The file will have its original line endings in your working directory.\n",
      "warning: LF will be replaced by CRLF in psi.py.\n",
      "The file will have its original line endings in your working directory.\n",
      "warning: LF will be replaced by CRLF in readme.ipynb.\n",
      "The file will have its original line endings in your working directory.\n",
      "warning: LF will be replaced by CRLF in scale_feature.py.\n",
      "The file will have its original line endings in your working directory.\n"
     ]
    }
   ],
   "source": [
    "!git add -A"
   ]
  }
 ],
 "metadata": {
  "kernelspec": {
   "display_name": "Python 2",
   "language": "python",
   "name": "python2"
  },
  "language_info": {
   "codemirror_mode": {
    "name": "ipython",
    "version": 2
   },
   "file_extension": ".py",
   "mimetype": "text/x-python",
   "name": "python",
   "nbconvert_exporter": "python",
   "pygments_lexer": "ipython2",
   "version": "2.7.15"
  }
 },
 "nbformat": 4,
 "nbformat_minor": 2
}
