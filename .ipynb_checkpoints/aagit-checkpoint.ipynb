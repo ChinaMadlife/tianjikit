{
 "cells": [
  {
   "cell_type": "code",
   "execution_count": 3,
   "metadata": {
    "ExecuteTime": {
     "end_time": "2018-12-21T13:36:06.529000Z",
     "start_time": "2018-12-21T13:36:05.338000Z"
    }
   },
   "outputs": [
    {
     "name": "stdout",
     "output_type": "stream",
     "text": [
      "running sdist\n",
      "running egg_info\n",
      "writing requirements to tianjikit.egg-info\\requires.txt\n",
      "writing tianjikit.egg-info\\PKG-INFO\n",
      "writing top-level names to tianjikit.egg-info\\top_level.txt\n",
      "writing dependency_links to tianjikit.egg-info\\dependency_links.txt\n",
      "reading manifest file 'tianjikit.egg-info\\SOURCES.txt'\n",
      "reading manifest template 'MANIFEST.in'\n",
      "writing manifest file 'tianjikit.egg-info\\SOURCES.txt'\n",
      "running check\n",
      "creating tianjikit-3.0\n",
      "creating tianjikit-3.0\\.ipynb_checkpoints\n",
      "creating tianjikit-3.0\\tianjikit.egg-info\n",
      "copying files to tianjikit-3.0...\n",
      "copying MANIFEST.in -> tianjikit-3.0\n",
      "copying README -> tianjikit-3.0\n",
      "copying aagit.ipynb -> tianjikit-3.0\n",
      "copying readme.ipynb -> tianjikit-3.0\n",
      "copying readme.png -> tianjikit-3.0\n",
      "copying setup.py -> tianjikit-3.0\n",
      "copying .\\.ipynb_checkpoints\\aagit-checkpoint.ipynb -> tianjikit-3.0\\.\\.ipynb_checkpoints\n",
      "copying .\\.ipynb_checkpoints\\readme-checkpoint.ipynb -> tianjikit-3.0\\.\\.ipynb_checkpoints\n",
      "copying tianjikit.egg-info\\PKG-INFO -> tianjikit-3.0\\tianjikit.egg-info\n",
      "copying tianjikit.egg-info\\SOURCES.txt -> tianjikit-3.0\\tianjikit.egg-info\n",
      "copying tianjikit.egg-info\\dependency_links.txt -> tianjikit-3.0\\tianjikit.egg-info\n",
      "copying tianjikit.egg-info\\not-zip-safe -> tianjikit-3.0\\tianjikit.egg-info\n",
      "copying tianjikit.egg-info\\requires.txt -> tianjikit-3.0\\tianjikit.egg-info\n",
      "copying tianjikit.egg-info\\top_level.txt -> tianjikit-3.0\\tianjikit.egg-info\n",
      "Writing tianjikit-3.0\\setup.cfg\n",
      "Creating tar archive\n",
      "removing 'tianjikit-3.0' (and everything under it)\n"
     ]
    }
   ],
   "source": [
    "# 代码打包\n",
    "%run setup.py sdist"
   ]
  },
  {
   "cell_type": "code",
   "execution_count": 4,
   "metadata": {
    "ExecuteTime": {
     "end_time": "2018-12-21T13:36:11.229000Z",
     "start_time": "2018-12-21T13:36:09.325000Z"
    }
   },
   "outputs": [
    {
     "name": "stdout",
     "output_type": "stream",
     "text": [
      "running develop\n",
      "running egg_info\n",
      "writing requirements to tianjikit.egg-info\\requires.txt\n",
      "writing tianjikit.egg-info\\PKG-INFO\n",
      "writing top-level names to tianjikit.egg-info\\top_level.txt\n",
      "writing dependency_links to tianjikit.egg-info\\dependency_links.txt\n",
      "reading manifest file 'tianjikit.egg-info\\SOURCES.txt'\n",
      "reading manifest template 'MANIFEST.in'\n",
      "writing manifest file 'tianjikit.egg-info\\SOURCES.txt'\n",
      "running build_ext\n",
      "Creating c:\\programefiles\\anaconda\\lib\\site-packages\\tianjikit.egg-link (link to .)\n",
      "tianjikit 3.0 is already the active version in easy-install.pth\n",
      "\n",
      "Installed c:\\users\\liangyun\\onedrive\\pythonfiles\\all_my_functions\\tianjikit\n",
      "Processing dependencies for tianjikit==3.0\n",
      "Searching for xgboost==0.81\n",
      "Best match: xgboost 0.81\n",
      "Adding xgboost 0.81 to easy-install.pth file\n",
      "\n",
      "Using c:\\programefiles\\anaconda\\lib\\site-packages\n",
      "Searching for scipy==1.1.0\n",
      "Best match: scipy 1.1.0\n",
      "Adding scipy 1.1.0 to easy-install.pth file\n",
      "\n",
      "Using c:\\programefiles\\anaconda\\lib\\site-packages\n",
      "Searching for numpy==1.15.1\n",
      "Best match: numpy 1.15.1\n",
      "Adding numpy 1.15.1 to easy-install.pth file\n",
      "\n",
      "Using c:\\programefiles\\anaconda\\lib\\site-packages\n",
      "Finished processing dependencies for tianjikit==3.0\n"
     ]
    }
   ],
   "source": [
    "# 安装模块\n",
    "%run setup.py develop"
   ]
  },
  {
   "cell_type": "code",
   "execution_count": null,
   "metadata": {
    "ExecuteTime": {
     "end_time": "2018-11-29T01:54:53.006000Z",
     "start_time": "2018-11-29T01:54:52.182000Z"
    }
   },
   "outputs": [],
   "source": [
    "!git config --global user.name \"lyhue1991\"\n",
    "!git config --global user.email \"lyhue1991@163.com\"\n",
    "\n",
    "# 出现一些类似 warning: LF will be replaced by CRLF in <file-name>. 可启用如下设置。\n",
    "!git config --global core.autocrlf false\n",
    "\n",
    "# 配置打印历史commit的快捷命令\n",
    "!git config --global alias.lg \"log --oneline --graph --all\""
   ]
  },
  {
   "cell_type": "code",
   "execution_count": null,
   "metadata": {
    "ExecuteTime": {
     "end_time": "2018-11-29T01:54:55.571000Z",
     "start_time": "2018-11-29T01:54:55.326000Z"
    }
   },
   "outputs": [],
   "source": [
    "!git init"
   ]
  },
  {
   "cell_type": "code",
   "execution_count": 5,
   "metadata": {
    "ExecuteTime": {
     "end_time": "2018-12-21T13:36:15.160000Z",
     "start_time": "2018-12-21T13:36:14.902000Z"
    }
   },
   "outputs": [],
   "source": [
    "!git add -A"
   ]
  },
  {
   "cell_type": "code",
   "execution_count": 6,
   "metadata": {
    "ExecuteTime": {
     "end_time": "2018-12-21T13:36:24.138000Z",
     "start_time": "2018-12-21T13:36:23.872000Z"
    }
   },
   "outputs": [
    {
     "name": "stdout",
     "output_type": "stream",
     "text": [
      "[master e138ca0] modify runtunning.py\n",
      " 10 files changed, 3541 insertions(+), 174 deletions(-)\n",
      " create mode 100644 __init__.pyc\n",
      " rewrite dist/tianjikit-3.0.tar.gz (97%)\n",
      " create mode 100644 prettytable.pyc\n",
      " create mode 100644 tunexgboost.py\n",
      " create mode 100644 tunning.pyc\n"
     ]
    }
   ],
   "source": [
    "!git commit -m\"modify runtunning.py\""
   ]
  },
  {
   "cell_type": "code",
   "execution_count": null,
   "metadata": {
    "ExecuteTime": {
     "end_time": "2018-10-16T05:07:35.333000Z",
     "start_time": "2018-10-16T05:07:35.065000Z"
    }
   },
   "outputs": [],
   "source": [
    "#!git remote rm origin"
   ]
  },
  {
   "cell_type": "code",
   "execution_count": null,
   "metadata": {
    "ExecuteTime": {
     "end_time": "2018-10-16T05:07:38.651000Z",
     "start_time": "2018-10-16T05:07:38.236000Z"
    }
   },
   "outputs": [],
   "source": [
    "#!git remote add origin https://github.com/lyhue1991/tianjikit.git"
   ]
  },
  {
   "cell_type": "code",
   "execution_count": null,
   "metadata": {
    "ExecuteTime": {
     "end_time": "2018-12-21T06:27:01.879000Z",
     "start_time": "2018-12-21T06:26:59.455000Z"
    }
   },
   "outputs": [],
   "source": [
    "!git fetch"
   ]
  },
  {
   "cell_type": "code",
   "execution_count": null,
   "metadata": {
    "ExecuteTime": {
     "end_time": "2018-12-12T04:40:12.143000Z",
     "start_time": "2018-12-12T04:40:08.535000Z"
    }
   },
   "outputs": [],
   "source": [
    "!git rebase origin/master"
   ]
  },
  {
   "cell_type": "code",
   "execution_count": 7,
   "metadata": {
    "ExecuteTime": {
     "end_time": "2018-12-21T13:37:33.550000Z",
     "start_time": "2018-12-21T13:36:36.405000Z"
    }
   },
   "outputs": [
    {
     "name": "stderr",
     "output_type": "stream",
     "text": [
      "To https://github.com/lyhue1991/tianjikit\n",
      "   d0c4a2d..e138ca0  master -> master\n"
     ]
    }
   ],
   "source": [
    "!git push  origin master"
   ]
  },
  {
   "cell_type": "code",
   "execution_count": 91,
   "metadata": {
    "ExecuteTime": {
     "end_time": "2018-12-28T07:44:25.215000Z",
     "start_time": "2018-12-28T07:44:21.399000Z"
    }
   },
   "outputs": [
    {
     "name": "stdout",
     "output_type": "stream",
     "text": [
      "\n",
      "task_name:example\n",
      "\n",
      "================================================================================ 2018-12-28 15:44:21\n",
      "\n",
      "train set size: 426\n",
      "test set size: 143\n",
      "feature number: 32\n",
      "score func: ks\n",
      "score gap limit: -0.1\n",
      "n_jobs: 16\n",
      "\n",
      "================================================================================ 2018-12-28 15:44:21\n",
      "\n",
      "step1: try relatively high learning_rate...\n",
      "\n",
      "================================================================================ 2018-12-28 15:44:21\n",
      "\n",
      "{'n_estimators': 50, 'learning_rate': 0.1}\n",
      "\n",
      "================================================================================ 2018-12-28 15:44:21\n",
      "\n",
      "k = 1\n",
      "[0]\ttrain-auc:0.915511\tvalid-auc:0.908903\ttest-auc:0.868132\ttrain-ks:0.831023\tvalid-ks:0.817807\ttest-ks:0.736264\n",
      "[20]\ttrain-auc:0.963065\tvalid-auc:0.969929\ttest-auc:0.92836\ttrain-ks:0.888974\tvalid-ks:0.855542\ttest-ks:0.815934\n",
      "[40]\ttrain-auc:0.963065\tvalid-auc:0.969929\ttest-auc:0.92836\ttrain-ks:0.888974\tvalid-ks:0.855542\ttest-ks:0.815934\n",
      "[49]\ttrain-auc:0.963065\tvalid-auc:0.969929\ttest-auc:0.92836\ttrain-ks:0.888974\tvalid-ks:0.855542\ttest-ks:0.815934\n",
      "\n",
      "================================================================================ 2018-12-28 15:44:22\n",
      "\n",
      "k = 2\n",
      "[0]\ttrain-auc:0.938197\tvalid-auc:0.893278\ttest-auc:0.869505\ttrain-ks:0.876394\tvalid-ks:0.786557\ttest-ks:0.739011\n",
      "[20]\ttrain-auc:0.982028\tvalid-auc:0.958432\ttest-auc:0.936285\ttrain-ks:0.899905\tvalid-ks:0.856132\ttest-ks:0.818681\n",
      "[40]\ttrain-auc:0.982028\tvalid-auc:0.958432\ttest-auc:0.936285\ttrain-ks:0.899905\tvalid-ks:0.856132\ttest-ks:0.818681\n",
      "[49]\ttrain-auc:0.982028\tvalid-auc:0.958432\ttest-auc:0.936285\ttrain-ks:0.899905\tvalid-ks:0.856132\ttest-ks:0.818681\n",
      "\n",
      "================================================================================ 2018-12-28 15:44:22\n",
      "\n",
      "k = 3\n",
      "[0]\ttrain-auc:0.909258\tvalid-auc:0.95283\ttest-auc:0.868132\ttrain-ks:0.818515\tvalid-ks:0.90566\ttest-ks:0.736264\n",
      "[20]\ttrain-auc:0.966733\tvalid-auc:0.988208\ttest-auc:0.931002\ttrain-ks:0.878044\tvalid-ks:0.943396\ttest-ks:0.807692\n",
      "[40]\ttrain-auc:0.966733\tvalid-auc:0.988208\ttest-auc:0.931002\ttrain-ks:0.878044\tvalid-ks:0.943396\ttest-ks:0.807692\n",
      "[49]\ttrain-auc:0.966733\tvalid-auc:0.988208\ttest-auc:0.931002\ttrain-ks:0.878044\tvalid-ks:0.943396\ttest-ks:0.807692\n",
      "\n",
      "================================================================================ 2018-12-28 15:44:23\n",
      "\n",
      "k = 4\n",
      "[0]\ttrain-auc:0.908469\tvalid-auc:0.890035\ttest-auc:0.857143\ttrain-ks:0.816938\tvalid-ks:0.780071\ttest-ks:0.714286\n",
      "[20]\ttrain-auc:0.973023\tvalid-auc:0.970814\ttest-auc:0.935757\ttrain-ks:0.896787\tvalid-ks:0.868514\ttest-ks:0.826923\n",
      "[40]\ttrain-auc:0.973023\tvalid-auc:0.970814\ttest-auc:0.935757\ttrain-ks:0.896787\tvalid-ks:0.868514\ttest-ks:0.826923\n",
      "[49]\ttrain-auc:0.973023\tvalid-auc:0.970814\ttest-auc:0.935757\ttrain-ks:0.896787\tvalid-ks:0.868514\ttest-ks:0.826923\n",
      "\n",
      "================================================================================ 2018-12-28 15:44:24\n",
      "\n",
      "k = 5\n",
      "[0]\ttrain-auc:0.928582\tvalid-auc:0.931713\ttest-auc:0.862637\ttrain-ks:0.857164\tvalid-ks:0.863426\ttest-ks:0.725275\n",
      "[20]\ttrain-auc:0.971753\tvalid-auc:0.966435\ttest-auc:0.921175\ttrain-ks:0.881044\tvalid-ks:0.907407\ttest-ks:0.78022\n",
      "[40]\ttrain-auc:0.971753\tvalid-auc:0.966435\ttest-auc:0.921175\ttrain-ks:0.881044\tvalid-ks:0.907407\ttest-ks:0.78022\n",
      "[49]\ttrain-auc:0.971753\tvalid-auc:0.966435\ttest-auc:0.921175\ttrain-ks:0.881044\tvalid-ks:0.907407\ttest-ks:0.78022\n",
      "\n",
      "================================================================================ 2018-12-28 15:44:24\n",
      "\n",
      "Tested params:\n",
      "+---+----------+---------------+--------------+-----------+------------------+-------+-----------+------------------+-----------+------------+\n",
      "|   | model_id | learning_rate | n_estimators | max_depth | min_child_weight | gamma | subsample | colsample_bytree | reg_alpha | reg_lambda |\n",
      "+---+----------+---------------+--------------+-----------+------------------+-------+-----------+------------------+-----------+------------+\n",
      "| 0 |    0     |      0.1      |      4       |     3     |        30        |   0   |    0.8    |       1.0        |     0     |     1      |\n",
      "+---+----------+---------------+--------------+-----------+------------------+-------+-----------+------------------+-----------+------------+\n",
      "Tested scores:\n",
      "+---+----------+-------------+--------------------+------------------------+------------+\n",
      "|   | model_id | train_score |   validate_score   |       score_gap        | test_score |\n",
      "+---+----------+-------------+--------------------+------------------------+------------+\n",
      "| 0 |    0     |  0.8801904  | 0.8811274000000001 | -0.0009369999999999879 | 0.8043956  |\n",
      "+---+----------+-------------+--------------------+------------------------+------------+\n",
      "Best params so far:\n",
      "+---+----------+---------------+--------------+-----------+------------------+-------+-----------+------------------+-----------+------------+\n",
      "|   | model_id | learning_rate | n_estimators | max_depth | min_child_weight | gamma | subsample | colsample_bytree | reg_alpha | reg_lambda |\n",
      "+---+----------+---------------+--------------+-----------+------------------+-------+-----------+------------------+-----------+------------+\n",
      "| 0 |    0     |      0.1      |      4       |     3     |        30        |   0   |    0.8    |       1.0        |     0     |     1      |\n",
      "+---+----------+---------------+--------------+-----------+------------------+-------+-----------+------------------+-----------+------------+\n",
      "Best score so far:\n",
      "+---+----------+-------------+--------------------+------------------------+------------+\n",
      "|   | model_id | train_score |   validate_score   |       score_gap        | test_score |\n",
      "+---+----------+-------------+--------------------+------------------------+------------+\n",
      "| 0 |    0     |  0.8801904  | 0.8811274000000001 | -0.0009369999999999879 | 0.8043956  |\n",
      "+---+----------+-------------+--------------------+------------------------+------------+\n",
      "\n",
      "================================================================================ 2018-12-28 15:44:24\n",
      "\n",
      "step8: train model with tuned parameters and fully train dataset...\n",
      "\n",
      "================================================================================ 2018-12-28 15:44:24\n",
      "\n",
      "[0]\ttrain-auc:0.936161\ttest-auc:0.864011\ttrain-ks:0.872321\ttest-ks:0.728022\n",
      "[1]\ttrain-auc:0.951668\ttest-auc:0.873838\ttrain-ks:0.872321\ttest-ks:0.728022\n",
      "[2]\ttrain-auc:0.983271\ttest-auc:0.935545\ttrain-ks:0.893515\ttest-ks:0.78022\n",
      "[3]\ttrain-auc:0.985691\ttest-auc:0.953719\ttrain-ks:0.91734\ttest-ks:0.782967\n",
      "\n",
      "================================================================================ 2018-12-28 15:44:25\n",
      "\n",
      "save results...\n",
      "\n",
      " \n"
     ]
    }
   ],
   "source": [
    "%run tunexgboost.py  xx_train_data xx_test_data"
   ]
  }
 ],
 "metadata": {
  "kernelspec": {
   "display_name": "Python 2",
   "language": "python",
   "name": "python2"
  },
  "language_info": {
   "codemirror_mode": {
    "name": "ipython",
    "version": 2
   },
   "file_extension": ".py",
   "mimetype": "text/x-python",
   "name": "python",
   "nbconvert_exporter": "python",
   "pygments_lexer": "ipython2",
   "version": "2.7.15"
  }
 },
 "nbformat": 4,
 "nbformat_minor": 2
}
