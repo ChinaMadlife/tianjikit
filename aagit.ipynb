{
 "cells": [
  {
   "cell_type": "code",
   "execution_count": 23,
   "metadata": {
    "ExecuteTime": {
     "end_time": "2018-11-22T07:40:42.171000Z",
     "start_time": "2018-11-22T07:40:40.709000Z"
    }
   },
   "outputs": [
    {
     "name": "stdout",
     "output_type": "stream",
     "text": [
      "running sdist\n",
      "running egg_info\n",
      "writing requirements to tianjikit.egg-info\\requires.txt\n",
      "writing tianjikit.egg-info\\PKG-INFO\n",
      "writing top-level names to tianjikit.egg-info\\top_level.txt\n",
      "writing dependency_links to tianjikit.egg-info\\dependency_links.txt\n",
      "reading manifest file 'tianjikit.egg-info\\SOURCES.txt'\n",
      "reading manifest template 'MANIFEST.in'\n",
      "writing manifest file 'tianjikit.egg-info\\SOURCES.txt'\n",
      "running check\n",
      "creating tianjikit-2.0\n",
      "creating tianjikit-2.0\\.ipynb_checkpoints\n",
      "creating tianjikit-2.0\\tianjikit.egg-info\n",
      "copying files to tianjikit-2.0...\n",
      "copying MANIFEST.in -> tianjikit-2.0\n",
      "copying README -> tianjikit-2.0\n",
      "copying aagit.ipynb -> tianjikit-2.0\n",
      "copying readme.ipynb -> tianjikit-2.0\n",
      "copying readme.png -> tianjikit-2.0\n",
      "copying setup.py -> tianjikit-2.0\n",
      "copying .\\.ipynb_checkpoints\\aagit-checkpoint.ipynb -> tianjikit-2.0\\.\\.ipynb_checkpoints\n",
      "copying .\\.ipynb_checkpoints\\readme-checkpoint.ipynb -> tianjikit-2.0\\.\\.ipynb_checkpoints\n",
      "copying tianjikit.egg-info\\PKG-INFO -> tianjikit-2.0\\tianjikit.egg-info\n",
      "copying tianjikit.egg-info\\SOURCES.txt -> tianjikit-2.0\\tianjikit.egg-info\n",
      "copying tianjikit.egg-info\\dependency_links.txt -> tianjikit-2.0\\tianjikit.egg-info\n",
      "copying tianjikit.egg-info\\not-zip-safe -> tianjikit-2.0\\tianjikit.egg-info\n",
      "copying tianjikit.egg-info\\requires.txt -> tianjikit-2.0\\tianjikit.egg-info\n",
      "copying tianjikit.egg-info\\top_level.txt -> tianjikit-2.0\\tianjikit.egg-info\n",
      "Writing tianjikit-2.0\\setup.cfg\n",
      "Creating tar archive\n",
      "removing 'tianjikit-2.0' (and everything under it)\n"
     ]
    }
   ],
   "source": [
    "# 代码打包\n",
    "!python setup.py sdist"
   ]
  },
  {
   "cell_type": "code",
   "execution_count": 24,
   "metadata": {
    "ExecuteTime": {
     "end_time": "2018-11-22T07:40:47.854000Z",
     "start_time": "2018-11-22T07:40:45.490000Z"
    }
   },
   "outputs": [
    {
     "name": "stdout",
     "output_type": "stream",
     "text": [
      "running develop\n",
      "running egg_info\n",
      "writing requirements to tianjikit.egg-info\\requires.txt\n",
      "writing tianjikit.egg-info\\PKG-INFO\n",
      "writing top-level names to tianjikit.egg-info\\top_level.txt\n",
      "writing dependency_links to tianjikit.egg-info\\dependency_links.txt\n",
      "reading manifest file 'tianjikit.egg-info\\SOURCES.txt'\n",
      "reading manifest template 'MANIFEST.in'\n",
      "writing manifest file 'tianjikit.egg-info\\SOURCES.txt'\n",
      "running build_ext\n",
      "Creating c:\\programefiles\\anaconda\\lib\\site-packages\\tianjikit.egg-link (link to .)\n",
      "tianjikit 2.0 is already the active version in easy-install.pth\n",
      "\n",
      "Installed c:\\users\\liangyun\\onedrive\\pythonfiles\\all_my_functions\\tianjikit\n",
      "Processing dependencies for tianjikit==2.0\n",
      "Searching for xgboost==0.80\n",
      "Best match: xgboost 0.80\n",
      "Adding xgboost 0.80 to easy-install.pth file\n",
      "\n",
      "Using c:\\programefiles\\anaconda\\lib\\site-packages\n",
      "Searching for prettytable==0.7.2\n",
      "Best match: prettytable 0.7.2\n",
      "Adding prettytable 0.7.2 to easy-install.pth file\n",
      "\n",
      "Using c:\\programefiles\\anaconda\\lib\\site-packages\n",
      "Searching for scipy==1.1.0\n",
      "Best match: scipy 1.1.0\n",
      "Adding scipy 1.1.0 to easy-install.pth file\n",
      "\n",
      "Using c:\\programefiles\\anaconda\\lib\\site-packages\n",
      "Searching for numpy==1.15.1\n",
      "Best match: numpy 1.15.1\n",
      "Adding numpy 1.15.1 to easy-install.pth file\n",
      "\n",
      "Using c:\\programefiles\\anaconda\\lib\\site-packages\n",
      "Finished processing dependencies for tianjikit==2.0\n"
     ]
    }
   ],
   "source": [
    "# 安装模块\n",
    "!python setup.py develop"
   ]
  },
  {
   "cell_type": "code",
   "execution_count": null,
   "metadata": {
    "ExecuteTime": {
     "end_time": "2018-10-16T05:04:52.741000Z",
     "start_time": "2018-10-16T05:04:51.984000Z"
    }
   },
   "outputs": [],
   "source": [
    "!git config --global user.name \"lyhue1991\"\n",
    "!git config --global user.email \"lyhue1991@163.com\"\n",
    "\n",
    "# 出现一些类似 warning: LF will be replaced by CRLF in <file-name>. 可启用如下设置。\n",
    "!git config --global core.autocrlf false\n",
    "\n",
    "# 配置打印历史commit的快捷命令\n",
    "!git config --global alias.lg \"log --oneline --graph --all\""
   ]
  },
  {
   "cell_type": "code",
   "execution_count": null,
   "metadata": {
    "ExecuteTime": {
     "end_time": "2018-10-16T05:04:54.736000Z",
     "start_time": "2018-10-16T05:04:54.492000Z"
    }
   },
   "outputs": [],
   "source": [
    "!git init"
   ]
  },
  {
   "cell_type": "code",
   "execution_count": 25,
   "metadata": {
    "ExecuteTime": {
     "end_time": "2018-11-22T07:40:51.418000Z",
     "start_time": "2018-11-22T07:40:51.150000Z"
    }
   },
   "outputs": [],
   "source": [
    "!git add -A"
   ]
  },
  {
   "cell_type": "code",
   "execution_count": 26,
   "metadata": {
    "ExecuteTime": {
     "end_time": "2018-11-22T07:40:53.442000Z",
     "start_time": "2018-11-22T07:40:53.096000Z"
    }
   },
   "outputs": [
    {
     "name": "stdout",
     "output_type": "stream",
     "text": [
      "[master ef4cd28] add mapreduce.py\n",
      " 3 files changed, 15 insertions(+), 15 deletions(-)\n",
      " rewrite dist/tianjikit-2.0.tar.gz (98%)\n"
     ]
    }
   ],
   "source": [
    "!git commit -m\"add mapreduce.py\""
   ]
  },
  {
   "cell_type": "code",
   "execution_count": null,
   "metadata": {
    "ExecuteTime": {
     "end_time": "2018-10-16T05:07:35.333000Z",
     "start_time": "2018-10-16T05:07:35.065000Z"
    }
   },
   "outputs": [],
   "source": [
    "#!git remote rm origin"
   ]
  },
  {
   "cell_type": "code",
   "execution_count": null,
   "metadata": {
    "ExecuteTime": {
     "end_time": "2018-10-16T05:07:38.651000Z",
     "start_time": "2018-10-16T05:07:38.236000Z"
    }
   },
   "outputs": [],
   "source": [
    "#!git remote add origin https://github.com/lyhue1991/tianjikit.git"
   ]
  },
  {
   "cell_type": "code",
   "execution_count": 5,
   "metadata": {
    "ExecuteTime": {
     "end_time": "2018-11-16T13:11:50.842000Z",
     "start_time": "2018-11-16T13:11:47.885000Z"
    }
   },
   "outputs": [],
   "source": [
    "!git fetch"
   ]
  },
  {
   "cell_type": "code",
   "execution_count": 6,
   "metadata": {
    "ExecuteTime": {
     "end_time": "2018-11-22T06:17:40.426000Z",
     "start_time": "2018-11-22T06:17:35.740000Z"
    }
   },
   "outputs": [
    {
     "name": "stdout",
     "output_type": "stream",
     "text": [
      "Current branch master is up to date.\n"
     ]
    }
   ],
   "source": [
    "!git rebase origin/master"
   ]
  },
  {
   "cell_type": "code",
   "execution_count": 27,
   "metadata": {
    "ExecuteTime": {
     "end_time": "2018-11-22T07:41:08.927000Z",
     "start_time": "2018-11-22T07:40:56.310000Z"
    }
   },
   "outputs": [
    {
     "name": "stderr",
     "output_type": "stream",
     "text": [
      "To https://github.com/lyhue1991/tianjikit\n",
      "   ef0cc7c..ef4cd28  master -> master\n"
     ]
    }
   ],
   "source": [
    "!git push"
   ]
  },
  {
   "cell_type": "code",
   "execution_count": 17,
   "metadata": {
    "ExecuteTime": {
     "end_time": "2018-10-17T09:16:26.600000Z",
     "start_time": "2018-10-17T09:16:14.192000Z"
    }
   },
   "outputs": [
    {
     "name": "stdout",
     "output_type": "stream",
     "text": [
      "Branch 'master' set up to track remote branch 'master' from 'origin'.\n"
     ]
    },
    {
     "name": "stderr",
     "output_type": "stream",
     "text": [
      "To https://github.com/lyhue1991/tianjikit.git\n",
      "   55d0cc5..55fc03f  master -> master\n"
     ]
    }
   ],
   "source": [
    "!git push -u origin master"
   ]
  }
 ],
 "metadata": {
  "kernelspec": {
   "display_name": "Python 2",
   "language": "python",
   "name": "python2"
  },
  "language_info": {
   "codemirror_mode": {
    "name": "ipython",
    "version": 2
   },
   "file_extension": ".py",
   "mimetype": "text/x-python",
   "name": "python",
   "nbconvert_exporter": "python",
   "pygments_lexer": "ipython2",
   "version": "2.7.15"
  }
 },
 "nbformat": 4,
 "nbformat_minor": 2
}
