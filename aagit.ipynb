{
 "cells": [
  {
   "cell_type": "code",
   "execution_count": 5,
   "metadata": {
    "ExecuteTime": {
     "end_time": "2018-12-18T07:08:34.761435Z",
     "start_time": "2018-12-18T07:08:34.527888Z"
    }
   },
   "outputs": [
    {
     "name": "stdout",
     "output_type": "stream",
     "text": [
      "running sdist\n",
      "running egg_info\n",
      "writing tianjikit.egg-info\\PKG-INFO\n",
      "writing dependency_links to tianjikit.egg-info\\dependency_links.txt\n",
      "writing requirements to tianjikit.egg-info\\requires.txt\n",
      "writing top-level names to tianjikit.egg-info\\top_level.txt\n",
      "reading manifest file 'tianjikit.egg-info\\SOURCES.txt'\n",
      "reading manifest template 'MANIFEST.in'\n",
      "writing manifest file 'tianjikit.egg-info\\SOURCES.txt'\n",
      "running check\n",
      "creating tianjikit-3.0\n",
      "creating tianjikit-3.0\\.ipynb_checkpoints\n",
      "creating tianjikit-3.0\\tianjikit.egg-info\n",
      "copying files to tianjikit-3.0...\n",
      "copying MANIFEST.in -> tianjikit-3.0\n",
      "copying README -> tianjikit-3.0\n",
      "copying aagit.ipynb -> tianjikit-3.0\n",
      "copying readme.ipynb -> tianjikit-3.0\n",
      "copying readme.png -> tianjikit-3.0\n",
      "copying setup.py -> tianjikit-3.0\n",
      "copying .\\.ipynb_checkpoints\\aagit-checkpoint.ipynb -> tianjikit-3.0\\.\\.ipynb_checkpoints\n",
      "copying .\\.ipynb_checkpoints\\readme-checkpoint.ipynb -> tianjikit-3.0\\.\\.ipynb_checkpoints\n",
      "copying tianjikit.egg-info\\PKG-INFO -> tianjikit-3.0\\tianjikit.egg-info\n",
      "copying tianjikit.egg-info\\SOURCES.txt -> tianjikit-3.0\\tianjikit.egg-info\n",
      "copying tianjikit.egg-info\\dependency_links.txt -> tianjikit-3.0\\tianjikit.egg-info\n",
      "copying tianjikit.egg-info\\not-zip-safe -> tianjikit-3.0\\tianjikit.egg-info\n",
      "copying tianjikit.egg-info\\requires.txt -> tianjikit-3.0\\tianjikit.egg-info\n",
      "copying tianjikit.egg-info\\top_level.txt -> tianjikit-3.0\\tianjikit.egg-info\n",
      "Writing tianjikit-3.0\\setup.cfg\n",
      "Creating tar archive\n",
      "removing 'tianjikit-3.0' (and everything under it)\n"
     ]
    }
   ],
   "source": [
    "# 代码打包\n",
    "%run setup.py sdist"
   ]
  },
  {
   "cell_type": "code",
   "execution_count": 6,
   "metadata": {
    "ExecuteTime": {
     "end_time": "2018-12-18T07:08:39.862455Z",
     "start_time": "2018-12-18T07:08:39.511885Z"
    }
   },
   "outputs": [
    {
     "name": "stdout",
     "output_type": "stream",
     "text": [
      "running develop\n",
      "running egg_info\n",
      "writing tianjikit.egg-info\\PKG-INFO\n",
      "writing dependency_links to tianjikit.egg-info\\dependency_links.txt\n",
      "writing requirements to tianjikit.egg-info\\requires.txt\n",
      "writing top-level names to tianjikit.egg-info\\top_level.txt\n",
      "reading manifest file 'tianjikit.egg-info\\SOURCES.txt'\n",
      "reading manifest template 'MANIFEST.in'\n",
      "writing manifest file 'tianjikit.egg-info\\SOURCES.txt'\n",
      "running build_ext\n",
      "Creating c:\\programefiles\\anaconda\\envs\\py3\\lib\\site-packages\\tianjikit.egg-link (link to .)\n",
      "tianjikit 3.0 is already the active version in easy-install.pth\n",
      "\n",
      "Installed c:\\users\\liangyun\\onedrive\\pythonfiles\\all_my_functions\\tianjikit\n",
      "Processing dependencies for tianjikit==3.0\n",
      "Searching for xgboost==0.81\n",
      "Best match: xgboost 0.81\n",
      "Adding xgboost 0.81 to easy-install.pth file\n",
      "\n",
      "Using c:\\programefiles\\anaconda\\envs\\py3\\lib\\site-packages\n",
      "Searching for scipy==1.1.0\n",
      "Best match: scipy 1.1.0\n",
      "Adding scipy 1.1.0 to easy-install.pth file\n",
      "\n",
      "Using c:\\programefiles\\anaconda\\envs\\py3\\lib\\site-packages\n",
      "Searching for numpy==1.15.4\n",
      "Best match: numpy 1.15.4\n",
      "Adding numpy 1.15.4 to easy-install.pth file\n",
      "\n",
      "Using c:\\programefiles\\anaconda\\envs\\py3\\lib\\site-packages\n",
      "Finished processing dependencies for tianjikit==3.0\n"
     ]
    }
   ],
   "source": [
    "# 安装模块\n",
    "%run setup.py develop"
   ]
  },
  {
   "cell_type": "code",
   "execution_count": null,
   "metadata": {
    "ExecuteTime": {
     "end_time": "2018-11-29T01:54:53.006000Z",
     "start_time": "2018-11-29T01:54:52.182000Z"
    }
   },
   "outputs": [],
   "source": [
    "!git config --global user.name \"lyhue1991\"\n",
    "!git config --global user.email \"lyhue1991@163.com\"\n",
    "\n",
    "# 出现一些类似 warning: LF will be replaced by CRLF in <file-name>. 可启用如下设置。\n",
    "!git config --global core.autocrlf false\n",
    "\n",
    "# 配置打印历史commit的快捷命令\n",
    "!git config --global alias.lg \"log --oneline --graph --all\""
   ]
  },
  {
   "cell_type": "code",
   "execution_count": null,
   "metadata": {
    "ExecuteTime": {
     "end_time": "2018-11-29T01:54:55.571000Z",
     "start_time": "2018-11-29T01:54:55.326000Z"
    }
   },
   "outputs": [],
   "source": [
    "!git init"
   ]
  },
  {
   "cell_type": "code",
   "execution_count": 11,
   "metadata": {
    "ExecuteTime": {
     "end_time": "2018-12-18T07:09:54.033286Z",
     "start_time": "2018-12-18T07:09:53.827745Z"
    }
   },
   "outputs": [],
   "source": [
    "!git add -A"
   ]
  },
  {
   "cell_type": "code",
   "execution_count": 12,
   "metadata": {
    "ExecuteTime": {
     "end_time": "2018-12-18T07:09:59.405360Z",
     "start_time": "2018-12-18T07:09:59.092798Z"
    }
   },
   "outputs": [
    {
     "name": "stdout",
     "output_type": "stream",
     "text": [
      "[master a63ce8c] big updation on tunning.py and runtunning.py to run faster on big datasets\n",
      " 1 file changed, 43 insertions(+), 43 deletions(-)\n"
     ]
    }
   ],
   "source": [
    "!git commit -m\"big updation on tunning.py and runtunning.py to run faster on big datasets\""
   ]
  },
  {
   "cell_type": "code",
   "execution_count": null,
   "metadata": {
    "ExecuteTime": {
     "end_time": "2018-10-16T05:07:35.333000Z",
     "start_time": "2018-10-16T05:07:35.065000Z"
    }
   },
   "outputs": [],
   "source": [
    "#!git remote rm origin"
   ]
  },
  {
   "cell_type": "code",
   "execution_count": null,
   "metadata": {
    "ExecuteTime": {
     "end_time": "2018-10-16T05:07:38.651000Z",
     "start_time": "2018-10-16T05:07:38.236000Z"
    }
   },
   "outputs": [],
   "source": [
    "#!git remote add origin https://github.com/lyhue1991/tianjikit.git"
   ]
  },
  {
   "cell_type": "code",
   "execution_count": null,
   "metadata": {
    "ExecuteTime": {
     "end_time": "2018-12-03T08:41:32.357000Z",
     "start_time": "2018-12-03T08:41:26.824000Z"
    }
   },
   "outputs": [],
   "source": [
    "!git fetch"
   ]
  },
  {
   "cell_type": "code",
   "execution_count": 4,
   "metadata": {
    "ExecuteTime": {
     "end_time": "2018-12-12T04:40:12.143000Z",
     "start_time": "2018-12-12T04:40:08.535000Z"
    }
   },
   "outputs": [
    {
     "name": "stdout",
     "output_type": "stream",
     "text": [
      "Current branch master is up to date.\n"
     ]
    }
   ],
   "source": [
    "!git rebase origin/master"
   ]
  },
  {
   "cell_type": "code",
   "execution_count": 13,
   "metadata": {
    "ExecuteTime": {
     "end_time": "2018-12-18T07:10:20.130504Z",
     "start_time": "2018-12-18T07:10:05.036986Z"
    }
   },
   "outputs": [
    {
     "name": "stderr",
     "output_type": "stream",
     "text": [
      "To https://github.com/lyhue1991/tianjikit\n",
      "   8f06719..a63ce8c  master -> master\n"
     ]
    }
   ],
   "source": [
    "!git push"
   ]
  },
  {
   "cell_type": "code",
   "execution_count": null,
   "metadata": {
    "ExecuteTime": {
     "end_time": "2018-10-17T09:16:26.600000Z",
     "start_time": "2018-10-17T09:16:14.192000Z"
    }
   },
   "outputs": [],
   "source": [
    "!git push -u origin master"
   ]
  }
 ],
 "metadata": {
  "kernelspec": {
   "display_name": "Python 3",
   "language": "python",
   "name": "python3"
  },
  "language_info": {
   "codemirror_mode": {
    "name": "ipython",
    "version": 3
   },
   "file_extension": ".py",
   "mimetype": "text/x-python",
   "name": "python",
   "nbconvert_exporter": "python",
   "pygments_lexer": "ipython3",
   "version": "3.6.7"
  }
 },
 "nbformat": 4,
 "nbformat_minor": 2
}
