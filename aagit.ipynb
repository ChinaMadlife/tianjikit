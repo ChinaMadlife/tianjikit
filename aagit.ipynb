{
 "cells": [
  {
   "cell_type": "code",
   "execution_count": null,
   "metadata": {
    "ExecuteTime": {
     "end_time": "2018-12-12T04:37:19.942000Z",
     "start_time": "2018-12-12T04:37:18.066000Z"
    }
   },
   "outputs": [],
   "source": [
    "# 代码打包\n",
    "!python setup.py sdist"
   ]
  },
  {
   "cell_type": "code",
   "execution_count": null,
   "metadata": {
    "ExecuteTime": {
     "end_time": "2018-12-12T04:37:25.667000Z",
     "start_time": "2018-12-12T04:37:23.300000Z"
    }
   },
   "outputs": [],
   "source": [
    "# 安装模块\n",
    "!python setup.py develop"
   ]
  },
  {
   "cell_type": "code",
   "execution_count": null,
   "metadata": {
    "ExecuteTime": {
     "end_time": "2018-11-29T01:54:53.006000Z",
     "start_time": "2018-11-29T01:54:52.182000Z"
    }
   },
   "outputs": [],
   "source": [
    "!git config --global user.name \"lyhue1991\"\n",
    "!git config --global user.email \"lyhue1991@163.com\"\n",
    "\n",
    "# 出现一些类似 warning: LF will be replaced by CRLF in <file-name>. 可启用如下设置。\n",
    "!git config --global core.autocrlf false\n",
    "\n",
    "# 配置打印历史commit的快捷命令\n",
    "!git config --global alias.lg \"log --oneline --graph --all\""
   ]
  },
  {
   "cell_type": "code",
   "execution_count": null,
   "metadata": {
    "ExecuteTime": {
     "end_time": "2018-11-29T01:54:55.571000Z",
     "start_time": "2018-11-29T01:54:55.326000Z"
    }
   },
   "outputs": [],
   "source": [
    "!git init"
   ]
  },
  {
   "cell_type": "code",
   "execution_count": 2,
   "metadata": {
    "ExecuteTime": {
     "end_time": "2018-12-12T04:40:03.090000Z",
     "start_time": "2018-12-12T04:40:02.863000Z"
    }
   },
   "outputs": [],
   "source": [
    "!git add -A"
   ]
  },
  {
   "cell_type": "code",
   "execution_count": 3,
   "metadata": {
    "ExecuteTime": {
     "end_time": "2018-12-12T04:40:04.788000Z",
     "start_time": "2018-12-12T04:40:04.461000Z"
    }
   },
   "outputs": [
    {
     "name": "stdout",
     "output_type": "stream",
     "text": [
      "[master d3846ba] fit bug in  chi2.py\n",
      " 1 file changed, 17 insertions(+), 27 deletions(-)\n"
     ]
    }
   ],
   "source": [
    "!git commit -m\"fit bug in  chi2.py\""
   ]
  },
  {
   "cell_type": "code",
   "execution_count": null,
   "metadata": {
    "ExecuteTime": {
     "end_time": "2018-10-16T05:07:35.333000Z",
     "start_time": "2018-10-16T05:07:35.065000Z"
    }
   },
   "outputs": [],
   "source": [
    "#!git remote rm origin"
   ]
  },
  {
   "cell_type": "code",
   "execution_count": null,
   "metadata": {
    "ExecuteTime": {
     "end_time": "2018-10-16T05:07:38.651000Z",
     "start_time": "2018-10-16T05:07:38.236000Z"
    }
   },
   "outputs": [],
   "source": [
    "#!git remote add origin https://github.com/lyhue1991/tianjikit.git"
   ]
  },
  {
   "cell_type": "code",
   "execution_count": null,
   "metadata": {
    "ExecuteTime": {
     "end_time": "2018-12-03T08:41:32.357000Z",
     "start_time": "2018-12-03T08:41:26.824000Z"
    }
   },
   "outputs": [],
   "source": [
    "!git fetch"
   ]
  },
  {
   "cell_type": "code",
   "execution_count": 4,
   "metadata": {
    "ExecuteTime": {
     "end_time": "2018-12-12T04:40:12.143000Z",
     "start_time": "2018-12-12T04:40:08.535000Z"
    }
   },
   "outputs": [
    {
     "name": "stdout",
     "output_type": "stream",
     "text": [
      "Current branch master is up to date.\n"
     ]
    }
   ],
   "source": [
    "!git rebase origin/master"
   ]
  },
  {
   "cell_type": "code",
   "execution_count": 5,
   "metadata": {
    "ExecuteTime": {
     "end_time": "2018-12-12T04:42:58.769000Z",
     "start_time": "2018-12-12T04:40:13.756000Z"
    }
   },
   "outputs": [
    {
     "name": "stderr",
     "output_type": "stream",
     "text": [
      "To https://github.com/lyhue1991/tianjikit\n",
      "   ea6a66f..d3846ba  master -> master\n"
     ]
    }
   ],
   "source": [
    "!git push"
   ]
  },
  {
   "cell_type": "code",
   "execution_count": null,
   "metadata": {
    "ExecuteTime": {
     "end_time": "2018-10-17T09:16:26.600000Z",
     "start_time": "2018-10-17T09:16:14.192000Z"
    }
   },
   "outputs": [],
   "source": [
    "!git push -u origin master"
   ]
  }
 ],
 "metadata": {
  "kernelspec": {
   "display_name": "Python 2",
   "language": "python",
   "name": "python2"
  },
  "language_info": {
   "codemirror_mode": {
    "name": "ipython",
    "version": 2
   },
   "file_extension": ".py",
   "mimetype": "text/x-python",
   "name": "python",
   "nbconvert_exporter": "python",
   "pygments_lexer": "ipython2",
   "version": "2.7.15"
  }
 },
 "nbformat": 4,
 "nbformat_minor": 2
}
