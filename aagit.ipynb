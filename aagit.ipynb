{
 "cells": [
  {
   "cell_type": "code",
   "execution_count": 1,
   "metadata": {
    "ExecuteTime": {
     "end_time": "2018-10-16T05:04:52.741000Z",
     "start_time": "2018-10-16T05:04:51.984000Z"
    }
   },
   "outputs": [],
   "source": [
    "!git config --global user.name \"lyhue1991\"\n",
    "!git config --global user.email \"lyhue1991@163.com\"\n",
    "\n",
    "# 出现一些类似 warning: LF will be replaced by CRLF in <file-name>. 可启用如下设置。\n",
    "!git config --global core.autocrlf false\n",
    "\n",
    "# 配置打印历史commit的快捷命令\n",
    "!git config --global alias.lg \"log --oneline --graph --all\""
   ]
  },
  {
   "cell_type": "code",
   "execution_count": 2,
   "metadata": {
    "ExecuteTime": {
     "end_time": "2018-10-16T05:04:54.736000Z",
     "start_time": "2018-10-16T05:04:54.492000Z"
    }
   },
   "outputs": [
    {
     "name": "stdout",
     "output_type": "stream",
     "text": [
      "Reinitialized existing Git repository in C:/Users/liangyun/OneDrive/PythonFiles/All_My_Functions/tianjikit/.git/\n"
     ]
    }
   ],
   "source": [
    "!git init"
   ]
  },
  {
   "cell_type": "code",
   "execution_count": 3,
   "metadata": {
    "ExecuteTime": {
     "end_time": "2018-10-16T05:04:57.165000Z",
     "start_time": "2018-10-16T05:04:56.787000Z"
    }
   },
   "outputs": [],
   "source": [
    "!git add -A "
   ]
  },
  {
   "cell_type": "code",
   "execution_count": 4,
   "metadata": {
    "ExecuteTime": {
     "end_time": "2018-10-16T05:05:04.917000Z",
     "start_time": "2018-10-16T05:05:04.478000Z"
    }
   },
   "outputs": [
    {
     "name": "stdout",
     "output_type": "stream",
     "text": [
      "[master 73fdb66] version1.0\n",
      " 33 files changed, 12259 insertions(+), 185 deletions(-)\n",
      " rename .ipynb_checkpoints/{all_git-checkpoint.ipynb => aagit-checkpoint.ipynb} (100%)\n",
      " delete mode 100644 FeatureAnalysis.pyc\n",
      " delete mode 100644 FeatureAnalysis_Frame.png\n",
      " delete mode 100644 RunModel.pyc\n",
      " delete mode 100644 TuneHyperParameters.pyc\n",
      " delete mode 100644 Tunning.pyc\n",
      " delete mode 100644 __init__.pyc\n",
      " rename all_git.ipynb => aagit.ipynb (77%)\n",
      " rename feature_analysis.py => analysisfeature.py (92%)\n",
      " rename FeatureAnalysis.py => analysisfeatures.py (95%)\n",
      " delete mode 100644 basic.pyc\n",
      " delete mode 100644 chi2.pyc\n",
      " delete mode 100644 drop_feature.pyc\n",
      " rename drop_feature.py => dropfeature.py (100%)\n",
      " delete mode 100644 feature_analysis.pyc\n",
      " delete mode 100644 fill_nan.pyc\n",
      " rename fill_nan.py => fillnan.py (100%)\n",
      " delete mode 100644 iv.pyc\n",
      " delete mode 100644 ks.pyc\n",
      " delete mode 100644 outliers.pyc\n",
      " delete mode 100644 pretty_dataframe.pyc\n",
      " rename pretty_dataframe.py => prettydf.py (100%)\n",
      " delete mode 100644 psi.pyc\n",
      " create mode 100644 readme.png\n",
      " delete mode 100644 scale_feature.pyc\n",
      " rename scale_feature.py => scalefeature.py (100%)\n",
      " create mode 100644 setup.py\n"
     ]
    }
   ],
   "source": [
    "!git commit -m\"version1.0\""
   ]
  },
  {
   "cell_type": "code",
   "execution_count": 6,
   "metadata": {
    "ExecuteTime": {
     "end_time": "2018-10-16T05:07:35.333000Z",
     "start_time": "2018-10-16T05:07:35.065000Z"
    }
   },
   "outputs": [],
   "source": [
    "!git remote rm origin"
   ]
  },
  {
   "cell_type": "code",
   "execution_count": 7,
   "metadata": {
    "ExecuteTime": {
     "end_time": "2018-10-16T05:07:38.651000Z",
     "start_time": "2018-10-16T05:07:38.236000Z"
    }
   },
   "outputs": [],
   "source": [
    "!git remote add origin https://github.com/lyhue1991/tianjikit.git"
   ]
  },
  {
   "cell_type": "code",
   "execution_count": 8,
   "metadata": {
    "ExecuteTime": {
     "end_time": "2018-10-16T05:07:44.939000Z",
     "start_time": "2018-10-16T05:07:40.885000Z"
    }
   },
   "outputs": [],
   "source": [
    "!git fetch"
   ]
  },
  {
   "cell_type": "code",
   "execution_count": 10,
   "metadata": {
    "ExecuteTime": {
     "end_time": "2018-10-16T05:08:02.555000Z",
     "start_time": "2018-10-16T05:08:00.612000Z"
    }
   },
   "outputs": [
    {
     "name": "stderr",
     "output_type": "stream",
     "text": [
      "fatal: Needed a single revision\n",
      "invalid upstream 'origin/master'\n"
     ]
    }
   ],
   "source": [
    "!git rebase origin/master"
   ]
  },
  {
   "cell_type": "code",
   "execution_count": 11,
   "metadata": {
    "ExecuteTime": {
     "end_time": "2018-10-16T05:08:21.346000Z",
     "start_time": "2018-10-16T05:08:07.708000Z"
    }
   },
   "outputs": [
    {
     "name": "stdout",
     "output_type": "stream",
     "text": [
      "Branch 'master' set up to track remote branch 'master' from 'origin'.\n"
     ]
    },
    {
     "name": "stderr",
     "output_type": "stream",
     "text": [
      "remote: \n",
      "remote: Create a pull request for 'master' on GitHub by visiting:        \n",
      "remote:      https://github.com/lyhue1991/tianjikit/pull/new/master        \n",
      "remote: \n",
      "To https://github.com/lyhue1991/tianjikit.git\n",
      " * [new branch]      master -> master\n"
     ]
    }
   ],
   "source": [
    "!git push -u origin master"
   ]
  }
 ],
 "metadata": {
  "kernelspec": {
   "display_name": "Python 2",
   "language": "python",
   "name": "python2"
  },
  "language_info": {
   "codemirror_mode": {
    "name": "ipython",
    "version": 2
   },
   "file_extension": ".py",
   "mimetype": "text/x-python",
   "name": "python",
   "nbconvert_exporter": "python",
   "pygments_lexer": "ipython2",
   "version": "2.7.15"
  }
 },
 "nbformat": 4,
 "nbformat_minor": 2
}
