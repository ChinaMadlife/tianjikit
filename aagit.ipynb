{
 "cells": [
  {
   "cell_type": "code",
   "execution_count": 1,
   "metadata": {
    "ExecuteTime": {
     "end_time": "2018-10-16T06:55:08.253000Z",
     "start_time": "2018-10-16T06:55:07.161000Z"
    }
   },
   "outputs": [
    {
     "name": "stdout",
     "output_type": "stream",
     "text": [
      "running sdist\n",
      "running egg_info\n",
      "creating tianjikit.egg-info\n",
      "writing tianjikit.egg-info\\PKG-INFO\n",
      "writing top-level names to tianjikit.egg-info\\top_level.txt\n",
      "writing dependency_links to tianjikit.egg-info\\dependency_links.txt\n",
      "writing manifest file 'tianjikit.egg-info\\SOURCES.txt'\n",
      "reading manifest file 'tianjikit.egg-info\\SOURCES.txt'\n",
      "writing manifest file 'tianjikit.egg-info\\SOURCES.txt'\n",
      "running check\n",
      "creating tianjikit-1.0\n",
      "creating tianjikit-1.0\\tianjikit.egg-info\n",
      "copying files to tianjikit-1.0...\n",
      "copying setup.py -> tianjikit-1.0\n",
      "copying tianjikit.egg-info\\PKG-INFO -> tianjikit-1.0\\tianjikit.egg-info\n",
      "copying tianjikit.egg-info\\SOURCES.txt -> tianjikit-1.0\\tianjikit.egg-info\n",
      "copying tianjikit.egg-info\\dependency_links.txt -> tianjikit-1.0\\tianjikit.egg-info\n",
      "copying tianjikit.egg-info\\not-zip-safe -> tianjikit-1.0\\tianjikit.egg-info\n",
      "copying tianjikit.egg-info\\top_level.txt -> tianjikit-1.0\\tianjikit.egg-info\n",
      "Writing tianjikit-1.0\\setup.cfg\n",
      "creating dist\n",
      "Creating tar archive\n",
      "removing 'tianjikit-1.0' (and everything under it)\n"
     ]
    },
    {
     "name": "stderr",
     "output_type": "stream",
     "text": [
      "warning: sdist: standard file not found: should have one of README, README.rst, README.txt, README.md\n",
      "\n"
     ]
    }
   ],
   "source": [
    "# 代码打包\n",
    "!python setup.py sdist"
   ]
  },
  {
   "cell_type": "code",
   "execution_count": 2,
   "metadata": {
    "ExecuteTime": {
     "end_time": "2018-10-16T06:55:13.424000Z",
     "start_time": "2018-10-16T06:55:11.382000Z"
    }
   },
   "outputs": [
    {
     "name": "stdout",
     "output_type": "stream",
     "text": [
      "running install\n",
      "running bdist_egg\n",
      "running egg_info\n",
      "writing tianjikit.egg-info\\PKG-INFO\n",
      "writing top-level names to tianjikit.egg-info\\top_level.txt\n",
      "writing dependency_links to tianjikit.egg-info\\dependency_links.txt\n",
      "reading manifest file 'tianjikit.egg-info\\SOURCES.txt'\n",
      "writing manifest file 'tianjikit.egg-info\\SOURCES.txt'\n",
      "installing library code to build\\bdist.win-amd64\\egg\n",
      "running install_lib\n",
      "creating build\n",
      "creating build\\bdist.win-amd64\n",
      "creating build\\bdist.win-amd64\\egg\n",
      "creating build\\bdist.win-amd64\\egg\\EGG-INFO\n",
      "copying tianjikit.egg-info\\PKG-INFO -> build\\bdist.win-amd64\\egg\\EGG-INFO\n",
      "copying tianjikit.egg-info\\SOURCES.txt -> build\\bdist.win-amd64\\egg\\EGG-INFO\n",
      "copying tianjikit.egg-info\\dependency_links.txt -> build\\bdist.win-amd64\\egg\\EGG-INFO\n",
      "copying tianjikit.egg-info\\not-zip-safe -> build\\bdist.win-amd64\\egg\\EGG-INFO\n",
      "copying tianjikit.egg-info\\top_level.txt -> build\\bdist.win-amd64\\egg\\EGG-INFO\n",
      "creating 'dist\\tianjikit-1.0-py2.7.egg' and adding 'build\\bdist.win-amd64\\egg' to it\n",
      "removing 'build\\bdist.win-amd64\\egg' (and everything under it)\n",
      "Processing tianjikit-1.0-py2.7.egg\n",
      "removing 'c:\\programefiles\\anaconda\\lib\\site-packages\\tianjikit-1.0-py2.7.egg' (and everything under it)\n",
      "creating c:\\programefiles\\anaconda\\lib\\site-packages\\tianjikit-1.0-py2.7.egg\n",
      "Extracting tianjikit-1.0-py2.7.egg to c:\\programefiles\\anaconda\\lib\\site-packages\n",
      "tianjikit 1.0 is already the active version in easy-install.pth\n",
      "\n",
      "Installed c:\\programefiles\\anaconda\\lib\\site-packages\\tianjikit-1.0-py2.7.egg\n",
      "Processing dependencies for tianjikit==1.0\n",
      "Finished processing dependencies for tianjikit==1.0\n"
     ]
    },
    {
     "name": "stderr",
     "output_type": "stream",
     "text": [
      "warning: install_lib: 'build\\lib' does not exist -- no Python modules to install\n",
      "\n"
     ]
    }
   ],
   "source": [
    "# 安装模块\n",
    "!python setup.py install"
   ]
  },
  {
   "cell_type": "code",
   "execution_count": 1,
   "metadata": {
    "ExecuteTime": {
     "end_time": "2018-10-16T05:04:52.741000Z",
     "start_time": "2018-10-16T05:04:51.984000Z"
    }
   },
   "outputs": [],
   "source": [
    "!git config --global user.name \"lyhue1991\"\n",
    "!git config --global user.email \"lyhue1991@163.com\"\n",
    "\n",
    "# 出现一些类似 warning: LF will be replaced by CRLF in <file-name>. 可启用如下设置。\n",
    "!git config --global core.autocrlf false\n",
    "\n",
    "# 配置打印历史commit的快捷命令\n",
    "!git config --global alias.lg \"log --oneline --graph --all\""
   ]
  },
  {
   "cell_type": "code",
   "execution_count": 2,
   "metadata": {
    "ExecuteTime": {
     "end_time": "2018-10-16T05:04:54.736000Z",
     "start_time": "2018-10-16T05:04:54.492000Z"
    }
   },
   "outputs": [
    {
     "name": "stdout",
     "output_type": "stream",
     "text": [
      "Reinitialized existing Git repository in C:/Users/liangyun/OneDrive/PythonFiles/All_My_Functions/tianjikit/.git/\n"
     ]
    }
   ],
   "source": [
    "!git init"
   ]
  },
  {
   "cell_type": "code",
   "execution_count": 5,
   "metadata": {
    "ExecuteTime": {
     "end_time": "2018-10-16T06:57:48.647000Z",
     "start_time": "2018-10-16T06:57:48.405000Z"
    }
   },
   "outputs": [],
   "source": [
    "!git add -A "
   ]
  },
  {
   "cell_type": "code",
   "execution_count": 6,
   "metadata": {
    "ExecuteTime": {
     "end_time": "2018-10-16T06:57:51.233000Z",
     "start_time": "2018-10-16T06:57:50.864000Z"
    }
   },
   "outputs": [
    {
     "name": "stdout",
     "output_type": "stream",
     "text": [
      "[master c6d2152] revise tunning to consider n_jobs in gridsearch_cv method\n",
      " 3 files changed, 30 insertions(+), 30 deletions(-)\n"
     ]
    }
   ],
   "source": [
    "!git commit -m\"revise tunning to consider n_jobs in gridsearch_cv method\""
   ]
  },
  {
   "cell_type": "code",
   "execution_count": 6,
   "metadata": {
    "ExecuteTime": {
     "end_time": "2018-10-16T05:07:35.333000Z",
     "start_time": "2018-10-16T05:07:35.065000Z"
    }
   },
   "outputs": [],
   "source": [
    "!git remote rm origin"
   ]
  },
  {
   "cell_type": "code",
   "execution_count": 7,
   "metadata": {
    "ExecuteTime": {
     "end_time": "2018-10-16T05:07:38.651000Z",
     "start_time": "2018-10-16T05:07:38.236000Z"
    }
   },
   "outputs": [],
   "source": [
    "!git remote add origin https://github.com/lyhue1991/tianjikit.git"
   ]
  },
  {
   "cell_type": "code",
   "execution_count": 7,
   "metadata": {
    "ExecuteTime": {
     "end_time": "2018-10-16T06:57:57.124000Z",
     "start_time": "2018-10-16T06:57:54.823000Z"
    }
   },
   "outputs": [],
   "source": [
    "!git fetch"
   ]
  },
  {
   "cell_type": "code",
   "execution_count": 8,
   "metadata": {
    "ExecuteTime": {
     "end_time": "2018-10-16T06:58:01.959000Z",
     "start_time": "2018-10-16T06:57:58.354000Z"
    }
   },
   "outputs": [
    {
     "name": "stdout",
     "output_type": "stream",
     "text": [
      "Current branch master is up to date.\n"
     ]
    }
   ],
   "source": [
    "!git rebase origin/master"
   ]
  },
  {
   "cell_type": "code",
   "execution_count": 9,
   "metadata": {
    "ExecuteTime": {
     "end_time": "2018-10-16T06:58:12.684000Z",
     "start_time": "2018-10-16T06:58:03.694000Z"
    }
   },
   "outputs": [
    {
     "name": "stdout",
     "output_type": "stream",
     "text": [
      "Branch 'master' set up to track remote branch 'master' from 'origin'.\n"
     ]
    },
    {
     "name": "stderr",
     "output_type": "stream",
     "text": [
      "To https://github.com/lyhue1991/tianjikit.git\n",
      "   7b288a9..c6d2152  master -> master\n"
     ]
    }
   ],
   "source": [
    "!git push -u origin master"
   ]
  }
 ],
 "metadata": {
  "kernelspec": {
   "display_name": "Python 2",
   "language": "python",
   "name": "python2"
  },
  "language_info": {
   "codemirror_mode": {
    "name": "ipython",
    "version": 2
   },
   "file_extension": ".py",
   "mimetype": "text/x-python",
   "name": "python",
   "nbconvert_exporter": "python",
   "pygments_lexer": "ipython2",
   "version": "2.7.15"
  }
 },
 "nbformat": 4,
 "nbformat_minor": 2
}
